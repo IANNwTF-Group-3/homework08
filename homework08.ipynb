{
 "cells": [
  {
   "cell_type": "code",
   "execution_count": 1,
   "metadata": {
    "colab": {
     "base_uri": "https://localhost:8080/"
    },
    "id": "U1lUFaCWW_9l",
    "outputId": "39cd8c87-94db-4cdf-954a-b4f3cf59556d"
   },
   "outputs": [
    {
     "output_type": "stream",
     "name": "stdout",
     "text": [
      "Num GPUs Available:  [PhysicalDevice(name='/physical_device:GPU:0', device_type='GPU')]\n"
     ]
    }
   ],
   "source": [
    "# disable compiler warnings\n",
    "import os\n",
    "\n",
    "# imports \n",
    "import tensorflow as tf\n",
    "import tensorflow_datasets as tfds\n",
    "from tensorflow.python.ops.numpy_ops import np_config\n",
    "np_config.enable_numpy_behavior()\n",
    "import numpy as np\n",
    "import matplotlib.pyplot as plt\n",
    "from tensorflow.python.keras.layers import Dense\n",
    "from typing import List\n",
    "import datetime\n",
    "from tqdm.notebook import tqdm\n",
    "\n",
    "\n",
    "from tensorflow.python.client import device_lib\n",
    "#os.environ['TF_CPP_MIN_LOG_LEVEL'] = '0'  # FATAL\n",
    "print(\"Num GPUs Available: \", tf.config.list_physical_devices('GPU'))\n"
   ]
  },
  {
   "cell_type": "code",
   "execution_count": 2,
   "metadata": {
    "id": "uk6WUyODW_9n",
    "colab": {
     "base_uri": "https://localhost:8080/",
     "height": 85,
     "referenced_widgets": [
      "4b2c660c86d54f02b563d3e46c90239f",
      "93465ccf0c6647829341860167561b34",
      "be572be433b94ca2b77980656322b427",
      "b90dc2190c584ef7b82b914a065a0ee0",
      "2ee2f4482adf452aaaf1d665ca275877",
      "863b53d09b5e40a09a7d5de11da1691e",
      "f432deaf263643f1aa194bc72cac761e",
      "087c0a6ba8d848ce8a563d146da51da8",
      "c77a00acf7bc4c92983ddfa1efdc1f58",
      "08d9a08514fd48cd84d6a60e0ac6e0c3",
      "37b3aac9cac94f3ba8e55e3cd5bfb469"
     ]
    },
    "outputId": "a819de05-25db-46b2-fdec-40fe5e0a24bd"
   },
   "outputs": [
    {
     "output_type": "stream",
     "name": "stdout",
     "text": [
      "Downloading and preparing dataset 11.06 MiB (download: 11.06 MiB, generated: 21.00 MiB, total: 32.06 MiB) to ~/tensorflow_datasets/mnist/3.0.1...\n"
     ]
    },
    {
     "output_type": "display_data",
     "data": {
      "text/plain": [
       "Dl Completed...:   0%|          | 0/5 [00:00<?, ? file/s]"
      ],
      "application/vnd.jupyter.widget-view+json": {
       "version_major": 2,
       "version_minor": 0,
       "model_id": "4b2c660c86d54f02b563d3e46c90239f"
      }
     },
     "metadata": {}
    },
    {
     "output_type": "stream",
     "name": "stdout",
     "text": [
      "Dataset mnist downloaded and prepared to ~/tensorflow_datasets/mnist/3.0.1. Subsequent calls will reuse this data.\n"
     ]
    }
   ],
   "source": [
    "(train_ds, val_ds), ds_info = tfds.load('mnist', split=['train', 'test'], as_supervised=True, with_info=True)\n",
    "#tfds.show_examples(train_ds, ds_info)"
   ]
  },
  {
   "cell_type": "code",
   "execution_count": 3,
   "metadata": {
    "id": "DEFe60MFOII0"
   },
   "outputs": [],
   "source": [
    "# gets in a dataset and returns target values\n",
    "def prepare_data(dataset, batch_size, noise_variance):\n",
    "    # convert data from uint8 to float32\n",
    "    dataset = dataset.map(lambda img, targets: (tf.cast(img, tf.float32), targets))\n",
    "\n",
    "    # convert image values from range [0, 255] to [-1, 1]\n",
    "    dataset = dataset.map(lambda img, targets: ((img/128.)-1., targets))\n",
    "\n",
    "    # replace targets with initial img, replace initial img with img+noise\n",
    "    dataset = dataset.map(lambda img, target: (img + tf.random.normal(img.shape, mean=0, stddev=noise_variance), img))\n",
    "\n",
    "    # clip min value to -1 and max value to +1\n",
    "    dataset = dataset.map(lambda img, target: (tf.clip_by_value(img, clip_value_min=-1, clip_value_max=1), target))\n",
    "\n",
    "    dataset = dataset.cache()\n",
    "    dataset = dataset.shuffle(4096)\n",
    "    dataset = dataset.batch(batch_size)\n",
    "    dataset = dataset.prefetch(tf.data.AUTOTUNE)\n",
    "\n",
    "    return dataset"
   ]
  },
  {
   "cell_type": "code",
   "execution_count": 4,
   "metadata": {
    "id": "jVBPWYKzW_9n"
   },
   "outputs": [],
   "source": [
    "class Encoder(tf.keras.layers.Layer):\n",
    "    def __init__(self, optimizer=tf.keras.optimizers.Adam()):\n",
    "        super(Encoder, self).__init__()\n",
    "  \n",
    "        self.my_layers = [tf.keras.layers.Conv2D(filters=32, kernel_size=3, strides=2, padding='same', activation='relu', input_shape=(28, 28, 1)),\n",
    "                          tf.keras.layers.BatchNormalization(),\n",
    "                          tf.keras.layers.Conv2D(filters=64, kernel_size=3, strides=2, padding='same', activation='relu', input_shape=(14, 14, 1)),\n",
    "                          tf.keras.layers.BatchNormalization(),\n",
    "                          tf.keras.layers.Flatten(),\n",
    "                          tf.keras.layers.Dense(64, activation='relu')\n",
    "                         ]\n",
    "\n",
    "    @tf.function\n",
    "    def call(self, x, training=False):\n",
    "        for layer in self.my_layers:\n",
    "            x = layer(x)\n",
    "        return x"
   ]
  },
  {
   "cell_type": "code",
   "execution_count": 5,
   "metadata": {
    "id": "UFqS1GSuWS6-"
   },
   "outputs": [],
   "source": [
    "class Decoder(tf.keras.layers.Layer):\n",
    "    def __init__(self, optimizer=tf.keras.optimizers.Adam()):\n",
    "        super(Decoder, self).__init__()\n",
    "\n",
    "        self.my_layers = [tf.keras.layers.Dense(14 * 14, activation='relu'),\n",
    "                          tf.keras.layers.Reshape((14, 14, 1)),\n",
    "                          tf.keras.layers.BatchNormalization(),\n",
    "                          tf.keras.layers.Conv2DTranspose(filters=64, kernel_size=3, strides=2, padding='same', activation='relu'),\n",
    "                          tf.keras.layers.BatchNormalization(),\n",
    "                          tf.keras.layers.Conv2D(filters=1, kernel_size=3, padding='same', activation='sigmoid')\n",
    "                         ]\n",
    "\n",
    "    @tf.function\n",
    "    def call(self, x, training=False):\n",
    "        for layer in self.my_layers:\n",
    "            x = layer(x)\n",
    "        return x"
   ]
  },
  {
   "cell_type": "code",
   "execution_count": 6,
   "metadata": {
    "id": "bdfaZrn4WS6-"
   },
   "outputs": [],
   "source": [
    "class Autoencoder(tf.keras.Model):\n",
    "    def __init__(self, optimizer=tf.keras.optimizers.Adam()):\n",
    "        super(Autoencoder, self).__init__()\n",
    "\n",
    "        self.encoder = Encoder()\n",
    "        self.decoder = Decoder()\n",
    "\n",
    "\n",
    "    @tf.function\n",
    "    def call(self, x, training=False):\n",
    "        x = self.encoder(x)\n",
    "        x = self.decoder(x)\n",
    "        return x"
   ]
  },
  {
   "cell_type": "code",
   "execution_count": 7,
   "metadata": {
    "id": "dDCxrRjh_WI8"
   },
   "outputs": [],
   "source": [
    "# overall hyperparameters to compare with and without overfitting precautions methods\n",
    "epochs = 10\n",
    "batch_size = 64\n",
    "noise_variance = 0.5"
   ]
  },
  {
   "cell_type": "code",
   "execution_count": 8,
   "metadata": {
    "colab": {
     "base_uri": "https://localhost:8080/",
     "height": 433
    },
    "id": "gziNcUqxD-M3",
    "outputId": "061e61c6-dcbc-4ac9-9b79-6b833c7a7813"
   },
   "outputs": [
    {
     "output_type": "display_data",
     "data": {
      "text/plain": [
       "<Figure size 648x216 with 2 Axes>"
      ],
      "image/png": "[encoded data removed]"
     },
     "metadata": {
      "needs_background": "light"
     }
    },
    {
     "output_type": "display_data",
     "data": {
      "text/plain": [
       "<Figure size 648x216 with 2 Axes>"
      ],
      "image/png": "[encoded data removed]"
     },
     "metadata": {
      "needs_background": "light"
     }
    }
   ],
   "source": [
    "model = Autoencoder()\n",
    "\n",
    "train_dataset = prepare_data(train_ds, batch_size, noise_variance)\n",
    "val_dataset = prepare_data(val_ds, batch_size, noise_variance)\n",
    "\n",
    "for img, label in train_dataset.take(1):\n",
    "    plt.figure(figsize=(9, 3))\n",
    "    \n",
    "    plt.subplot(121)\n",
    "    plt.title('Train')\n",
    "    plt.axis('off')\n",
    "    plt.imshow(img[0,:,:,0], cmap='gray')\n",
    "\n",
    "    plt.subplot(122)\n",
    "    plt.title('Target')\n",
    "    plt.axis('off')\n",
    "    plt.imshow(label[0,:,:,0], cmap='gray')\n",
    "\n",
    "    plt.tight_layout()\n",
    "    plt.show()\n",
    "\n",
    "for img, label in train_dataset.take(1):\n",
    "    plt.figure(figsize=(9, 3))\n",
    "    \n",
    "    plt.subplot(121)\n",
    "    plt.title('Original')\n",
    "    plt.axis('off')\n",
    "    plt.imshow(img[0,:,:,0], cmap='gray')\n",
    "\n",
    "    plt.subplot(122)\n",
    "    plt.title('Untrained')\n",
    "    plt.axis('off')\n",
    "    plt.imshow(model(img)[0,:,:,0], cmap='gray')\n",
    "\n",
    "    plt.tight_layout()\n",
    "    plt.show()"
   ]
  },
  {
   "cell_type": "code",
   "execution_count": 9,
   "metadata": {
    "colab": {
     "base_uri": "https://localhost:8080/"
    },
    "id": "8G0PkfIFZZGM",
    "outputId": "ff8effde-6241-47af-86a7-dc3d59eb6660"
   },
   "outputs": [
    {
     "output_type": "stream",
     "name": "stdout",
     "text": [
      "Epoch 1/15\n",
      "938/938 [==============================] - 17s 16ms/step - loss: 0.9240 - val_loss: 0.8633\n",
      "Epoch 2/15\n",
      "938/938 [==============================] - 7s 7ms/step - loss: 0.8592 - val_loss: 0.8567\n",
      "Epoch 3/15\n",
      "938/938 [==============================] - 7s 7ms/step - loss: 0.8542 - val_loss: 0.8503\n",
      "Epoch 4/15\n",
      "938/938 [==============================] - 7s 8ms/step - loss: 0.8517 - val_loss: 0.8488\n",
      "Epoch 5/15\n",
      "938/938 [==============================] - 7s 7ms/step - loss: 0.8505 - val_loss: 0.8480\n",
      "Epoch 6/15\n",
      "938/938 [==============================] - 8s 8ms/step - loss: 0.8498 - val_loss: 0.8480\n",
      "Epoch 7/15\n",
      "938/938 [==============================] - 7s 8ms/step - loss: 0.8493 - val_loss: 0.8474\n",
      "Epoch 8/15\n",
      "938/938 [==============================] - 7s 7ms/step - loss: 0.8489 - val_loss: 0.8471\n",
      "Epoch 9/15\n",
      "938/938 [==============================] - 7s 7ms/step - loss: 0.8485 - val_loss: 0.8462\n",
      "Epoch 10/15\n",
      "938/938 [==============================] - 7s 7ms/step - loss: 0.8480 - val_loss: 0.8458\n",
      "Epoch 11/15\n",
      "938/938 [==============================] - 7s 7ms/step - loss: 0.8478 - val_loss: 0.8458\n",
      "Epoch 12/15\n",
      "938/938 [==============================] - 7s 7ms/step - loss: 0.8476 - val_loss: 0.8456\n",
      "Epoch 13/15\n",
      "938/938 [==============================] - 7s 7ms/step - loss: 0.8475 - val_loss: 0.8459\n",
      "Epoch 14/15\n",
      "938/938 [==============================] - 7s 7ms/step - loss: 0.8474 - val_loss: 0.8482\n",
      "Epoch 15/15\n",
      "938/938 [==============================] - 7s 7ms/step - loss: 0.8473 - val_loss: 0.8454\n",
      "Model: \"autoencoder\"\n",
      "_________________________________________________________________\n",
      " Layer (type)                Output Shape              Param #   \n",
      "=================================================================\n",
      " encoder (Encoder)           multiple                  219968    \n",
      "                                                                 \n",
      " decoder (Decoder)           multiple                  14217     \n",
      "                                                                 \n",
      "=================================================================\n",
      "Total params: 234,185\n",
      "Trainable params: 233,863\n",
      "Non-trainable params: 322\n",
      "_________________________________________________________________\n"
     ]
    }
   ],
   "source": [
    "model.compile(optimizer=tf.keras.optimizers.Adam(), \n",
    "              loss='mean_squared_error'\n",
    "              )\n",
    "\n",
    "history = model.fit(train_dataset,\n",
    "                    validation_data=val_dataset,\n",
    "                    batch_size=batch_size,\n",
    "                    epochs=15)\n",
    "\n",
    "model.summary()"
   ]
  },
  {
   "cell_type": "code",
   "execution_count": 10,
   "metadata": {
    "colab": {
     "base_uri": "https://localhost:8080/",
     "height": 699
    },
    "id": "yQ5kLzAvn1LD",
    "outputId": "46c6fc9e-f2fe-4978-c939-11646af848ae"
   },
   "outputs": [
    {
     "output_type": "display_data",
     "data": {
      "text/plain": [
       "<Figure size 432x864 with 30 Axes>"
      ],
      "image/png": "[encoded data removed]"
     },
     "metadata": {
      "needs_background": "light"
     }
    }
   ],
   "source": [
    "# Plot example images\n",
    "figure = plt.figure(figsize=(6, 12))\n",
    "rows = 10\n",
    "cols = 3\n",
    "\n",
    "def show_image(img, i, name):\n",
    "  figure.add_subplot(rows, cols, i)\n",
    "  plt.imshow(img.reshape((28, 28)))\n",
    "  plt.axis('off')\n",
    "  if i < 4:\n",
    "    plt.title(name)\n",
    "\n",
    "i = 1\n",
    "for imgs, targets in val_dataset.shuffle(4096).take(rows):\n",
    "  output = model(imgs[0].reshape((1, 28, 28, 1)))\n",
    "  \n",
    "  show_image(imgs[0], i, 'Input')\n",
    "  i += 1\n",
    "\n",
    "  show_image(targets[0], i, 'Expected')\n",
    "  i += 1\n",
    "\n",
    "  show_image(output, i, 'Output')\n",
    "  i += 1\n"
   ]
  },
  {
   "cell_type": "code",
   "execution_count": 11,
   "metadata": {
    "colab": {
     "base_uri": "https://localhost:8080/",
     "height": 267
    },
    "id": "eb7lxDBbSAxv",
    "outputId": "ecfd1dc4-331b-496b-fe54-7a12d71998d5"
   },
   "outputs": [
    {
     "output_type": "display_data",
     "data": {
      "text/plain": [
       "<Figure size 432x288 with 1 Axes>"
      ],
      "image/png": "[encoded data removed]"
     },
     "metadata": {
      "needs_background": "light"
     }
    }
   ],
   "source": [
    "from sklearn.manifold import TSNE\n",
    "from warnings import simplefilter\n",
    "simplefilter(action='ignore', category=FutureWarning)\n",
    "\n",
    "color_dict = {0: \"black\",\n",
    "              1: \"green\",\n",
    "              2: \"red\",\n",
    "              3: \"yellow\",\n",
    "              4: \"pink\",\n",
    "              5: \"blue\",\n",
    "              6: \"orange\",\n",
    "              7: \"purple\",\n",
    "              8: \"cyan\",\n",
    "              9: \"grey\",\n",
    "              }\n",
    "\n",
    "\n",
    "plt.clf()\n",
    "plt.rcParams[\"figure.figsize\"] = (10, 10)\n",
    "\n",
    "def scale_to_01_range(x):\n",
    "    value_range = (np.max(x) - np.min(x))\n",
    "    starts_from_zero = x - np.min(x)\n",
    "    return starts_from_zero / value_range\n",
    "\n",
    "\n",
    "for old, new in zip(train_ds.take(20), train_dataset.take(20)):\n",
    "    _, label = old\n",
    "    imgs, imgs_label = new \n",
    "\n",
    "    output = model.encoder(imgs[0].reshape((1, 28, 28, 1))).reshape(-1, 1)\n",
    "\n",
    "    output_embedded = TSNE(n_components=2).fit_transform(output)\n",
    "\n",
    "    x = output_embedded[:, 0]\n",
    "    y = output_embedded[:, 1]\n",
    "\n",
    "    #x = scale_to_01_range(x)\n",
    "    #y = scale_to_01_range(y)\n",
    "    plt.plot(x, y, 'o', color=color_dict[label.numpy()])\n"
   ]
  },
  {
   "cell_type": "markdown",
   "metadata": {
    "id": "rK5LnbDdSAxx"
   },
   "source": [
    "The points of the specific labels always follow a pattern. However the points arent clustered according to their labels, they much more overlap.\n",
    "We expected a pattern in which the different labels are clustered based on their labels and not to follow a pattern."
   ]
  },
  {
   "cell_type": "code",
   "execution_count": 12,
   "metadata": {
    "colab": {
     "base_uri": "https://localhost:8080/",
     "height": 693
    },
    "id": "cF_MwAzSSAxy",
    "outputId": "30b1ad89-0295-428c-a521-86167357e79c"
   },
   "outputs": [
    {
     "output_type": "stream",
     "name": "stderr",
     "text": [
      "/usr/local/lib/python3.8/dist-packages/scipy/interpolate/interpolate.py:630: RuntimeWarning: invalid value encountered in true_divide\n",
      "  slope = (y_hi - y_lo) / (x_hi - x_lo)[:, None]\n"
     ]
    },
    {
     "output_type": "error",
     "ename": "ValueError",
     "evalue": "ignored",
     "traceback": [
      "\u001B[0;31m---------------------------------------------------------------------------\u001B[0m",
      "\u001B[0;31mValueError\u001B[0m                                Traceback (most recent call last)",
      "\u001B[0;32m<ipython-input-12-399d30315036>\u001B[0m in \u001B[0;36m<module>\u001B[0;34m\u001B[0m\n\u001B[1;32m     30\u001B[0m \u001B[0msteps\u001B[0m \u001B[0;34m=\u001B[0m \u001B[0mnp\u001B[0m\u001B[0;34m.\u001B[0m\u001B[0mlinspace\u001B[0m\u001B[0;34m(\u001B[0m\u001B[0mminima\u001B[0m\u001B[0;34m,\u001B[0m \u001B[0mmaxima\u001B[0m\u001B[0;34m,\u001B[0m \u001B[0;36m14\u001B[0m\u001B[0;34m*\u001B[0m\u001B[0;36m14\u001B[0m\u001B[0;34m)\u001B[0m\u001B[0;34m\u001B[0m\u001B[0;34m\u001B[0m\u001B[0m\n\u001B[1;32m     31\u001B[0m \u001B[0;34m\u001B[0m\u001B[0m\n\u001B[0;32m---> 32\u001B[0;31m \u001B[0membedded_new\u001B[0m \u001B[0;34m=\u001B[0m \u001B[0minterpol\u001B[0m\u001B[0;34m(\u001B[0m\u001B[0msteps\u001B[0m\u001B[0;34m)\u001B[0m\u001B[0;34m\u001B[0m\u001B[0;34m\u001B[0m\u001B[0m\n\u001B[0m\u001B[1;32m     33\u001B[0m \u001B[0membedded_new\u001B[0m \u001B[0;34m=\u001B[0m \u001B[0mtf\u001B[0m\u001B[0;34m.\u001B[0m\u001B[0mconvert_to_tensor\u001B[0m\u001B[0;34m(\u001B[0m\u001B[0membedded_new\u001B[0m\u001B[0;34m)\u001B[0m\u001B[0;34m\u001B[0m\u001B[0;34m\u001B[0m\u001B[0m\n\u001B[1;32m     34\u001B[0m \u001B[0;34m\u001B[0m\u001B[0m\n",
      "\u001B[0;32m/usr/local/lib/python3.8/dist-packages/scipy/interpolate/polyint.py\u001B[0m in \u001B[0;36m__call__\u001B[0;34m(self, x)\u001B[0m\n\u001B[1;32m     76\u001B[0m         \"\"\"\n\u001B[1;32m     77\u001B[0m         \u001B[0mx\u001B[0m\u001B[0;34m,\u001B[0m \u001B[0mx_shape\u001B[0m \u001B[0;34m=\u001B[0m \u001B[0mself\u001B[0m\u001B[0;34m.\u001B[0m\u001B[0m_prepare_x\u001B[0m\u001B[0;34m(\u001B[0m\u001B[0mx\u001B[0m\u001B[0;34m)\u001B[0m\u001B[0;34m\u001B[0m\u001B[0;34m\u001B[0m\u001B[0m\n\u001B[0;32m---> 78\u001B[0;31m         \u001B[0my\u001B[0m \u001B[0;34m=\u001B[0m \u001B[0mself\u001B[0m\u001B[0;34m.\u001B[0m\u001B[0m_evaluate\u001B[0m\u001B[0;34m(\u001B[0m\u001B[0mx\u001B[0m\u001B[0;34m)\u001B[0m\u001B[0;34m\u001B[0m\u001B[0;34m\u001B[0m\u001B[0m\n\u001B[0m\u001B[1;32m     79\u001B[0m         \u001B[0;32mreturn\u001B[0m \u001B[0mself\u001B[0m\u001B[0;34m.\u001B[0m\u001B[0m_finish_y\u001B[0m\u001B[0;34m(\u001B[0m\u001B[0my\u001B[0m\u001B[0;34m,\u001B[0m \u001B[0mx_shape\u001B[0m\u001B[0;34m)\u001B[0m\u001B[0;34m\u001B[0m\u001B[0;34m\u001B[0m\u001B[0m\n\u001B[1;32m     80\u001B[0m \u001B[0;34m\u001B[0m\u001B[0m\n",
      "\u001B[0;32m/usr/local/lib/python3.8/dist-packages/scipy/interpolate/interpolate.py\u001B[0m in \u001B[0;36m_evaluate\u001B[0;34m(self, x_new)\u001B[0m\n\u001B[1;32m    682\u001B[0m         \u001B[0my_new\u001B[0m \u001B[0;34m=\u001B[0m \u001B[0mself\u001B[0m\u001B[0;34m.\u001B[0m\u001B[0m_call\u001B[0m\u001B[0;34m(\u001B[0m\u001B[0mself\u001B[0m\u001B[0;34m,\u001B[0m \u001B[0mx_new\u001B[0m\u001B[0;34m)\u001B[0m\u001B[0;34m\u001B[0m\u001B[0;34m\u001B[0m\u001B[0m\n\u001B[1;32m    683\u001B[0m         \u001B[0;32mif\u001B[0m \u001B[0;32mnot\u001B[0m \u001B[0mself\u001B[0m\u001B[0;34m.\u001B[0m\u001B[0m_extrapolate\u001B[0m\u001B[0;34m:\u001B[0m\u001B[0;34m\u001B[0m\u001B[0;34m\u001B[0m\u001B[0m\n\u001B[0;32m--> 684\u001B[0;31m             \u001B[0mbelow_bounds\u001B[0m\u001B[0;34m,\u001B[0m \u001B[0mabove_bounds\u001B[0m \u001B[0;34m=\u001B[0m \u001B[0mself\u001B[0m\u001B[0;34m.\u001B[0m\u001B[0m_check_bounds\u001B[0m\u001B[0;34m(\u001B[0m\u001B[0mx_new\u001B[0m\u001B[0;34m)\u001B[0m\u001B[0;34m\u001B[0m\u001B[0;34m\u001B[0m\u001B[0m\n\u001B[0m\u001B[1;32m    685\u001B[0m             \u001B[0;32mif\u001B[0m \u001B[0mlen\u001B[0m\u001B[0;34m(\u001B[0m\u001B[0my_new\u001B[0m\u001B[0;34m)\u001B[0m \u001B[0;34m>\u001B[0m \u001B[0;36m0\u001B[0m\u001B[0;34m:\u001B[0m\u001B[0;34m\u001B[0m\u001B[0;34m\u001B[0m\u001B[0m\n\u001B[1;32m    686\u001B[0m                 \u001B[0;31m# Note fill_value must be broadcast up to the proper size\u001B[0m\u001B[0;34m\u001B[0m\u001B[0;34m\u001B[0m\u001B[0;34m\u001B[0m\u001B[0m\n",
      "\u001B[0;32m/usr/local/lib/python3.8/dist-packages/scipy/interpolate/interpolate.py\u001B[0m in \u001B[0;36m_check_bounds\u001B[0;34m(self, x_new)\u001B[0m\n\u001B[1;32m    714\u001B[0m                              \"range.\")\n\u001B[1;32m    715\u001B[0m         \u001B[0;32mif\u001B[0m \u001B[0mself\u001B[0m\u001B[0;34m.\u001B[0m\u001B[0mbounds_error\u001B[0m \u001B[0;32mand\u001B[0m \u001B[0mabove_bounds\u001B[0m\u001B[0;34m.\u001B[0m\u001B[0many\u001B[0m\u001B[0;34m(\u001B[0m\u001B[0;34m)\u001B[0m\u001B[0;34m:\u001B[0m\u001B[0;34m\u001B[0m\u001B[0;34m\u001B[0m\u001B[0m\n\u001B[0;32m--> 716\u001B[0;31m             raise ValueError(\"A value in x_new is above the interpolation \"\n\u001B[0m\u001B[1;32m    717\u001B[0m                              \"range.\")\n\u001B[1;32m    718\u001B[0m \u001B[0;34m\u001B[0m\u001B[0m\n",
      "\u001B[0;31mValueError\u001B[0m: A value in x_new is above the interpolation range."
     ]
    },
    {
     "output_type": "display_data",
     "data": {
      "text/plain": [
       "<Figure size 432x864 with 0 Axes>"
      ]
     },
     "metadata": {}
    }
   ],
   "source": [
    "\n",
    "from scipy import interpolate\n",
    "\n",
    "figure = plt.figure(figsize=(6, 12))\n",
    "rows = 10\n",
    "cols = 3\n",
    "\n",
    "def show_image(img, i, name):\n",
    "  figure.add_subplot(rows, cols, i)\n",
    "  plt.imshow(img.reshape((28, 28)))\n",
    "  plt.axis('off')\n",
    "  if i < 4:\n",
    "    plt.title(name)\n",
    "\n",
    "i = 1\n",
    "\n",
    "for img, target in val_dataset.shuffle(4096).take(rows):\n",
    "    img_1, target_1 = img, target\n",
    "\n",
    "\n",
    "for img, target in val_dataset.shuffle(4096).take(rows):\n",
    "    img_2, target_2 = img, target\n",
    "\n",
    "embedded_1 = model.encoder(img_1[0].reshape((1, 28, 28, 1)))\n",
    "embedded_2 = model.encoder(img_2[0].reshape((1, 28, 28, 1)))\n",
    "\n",
    "interpol = interpolate.interp1d(embedded_1.numpy()[0], embedded_2.numpy()[0], kind='linear')\n",
    "\n",
    "minima = min(np.min(embedded_1[0]), np.min(embedded_2[0])).numpy()\n",
    "maxima = max(np.max(embedded_1[0]), np.max(embedded_2[0])).numpy()\n",
    "steps = np.linspace(minima, maxima, 14*14)\n",
    "\n",
    "embedded_new = interpol(steps)\n",
    "embedded_new = tf.convert_to_tensor(embedded_new)\n",
    "\n",
    "print(embedded_new)\n",
    "output_new = model.decoder(embedded_new)\n",
    "print(output_new)\n",
    "  \n",
    "\"\"\"show_image(img_1[0], i, 'first img')\n",
    "i += 1\n",
    "\n",
    "show_image(img_2[0], i, 'second img')\n",
    "i += 1\n",
    "\n",
    "show_image(output, i, 'interpolation')\n",
    "i += 1\"\"\""
   ]
  },
  {
   "cell_type": "code",
   "execution_count": null,
   "metadata": {
    "id": "NJ08YJx9SAxz"
   },
   "outputs": [],
   "source": []
  }
 ],
 "metadata": {
  "accelerator": "GPU",
  "colab": {
   "provenance": []
  },
  "gpuClass": "standard",
  "kernelspec": {
   "display_name": "ki_uebungen",
   "language": "python",
   "name": "python3"
  },
  "language_info": {
   "codemirror_mode": {
    "name": "ipython",
    "version": 3
   },
   "file_extension": ".py",
   "mimetype": "text/x-python",
   "name": "python",
   "nbconvert_exporter": "python",
   "pygments_lexer": "ipython3",
   "version": "3.8.12"
  },
  "orig_nbformat": 4,
  "vscode": {
   "interpreter": {
    "hash": "f29be5cdbd889ccae82f59fdf4d8dd89ee7979a66140a153cd0c4d342f0eb10a"
   }
  },
  "widgets": {
   "application/vnd.jupyter.widget-state+json": {
    "4b2c660c86d54f02b563d3e46c90239f": {
     "model_module": "@jupyter-widgets/controls",
     "model_name": "HBoxModel",
     "model_module_version": "1.5.0",
     "state": {
      "_dom_classes": [],
      "_model_module": "@jupyter-widgets/controls",
      "_model_module_version": "1.5.0",
      "_model_name": "HBoxModel",
      "_view_count": null,
      "_view_module": "@jupyter-widgets/controls",
      "_view_module_version": "1.5.0",
      "_view_name": "HBoxView",
      "box_style": "",
      "children": [
       "IPY_MODEL_93465ccf0c6647829341860167561b34",
       "IPY_MODEL_be572be433b94ca2b77980656322b427",
       "IPY_MODEL_b90dc2190c584ef7b82b914a065a0ee0"
      ],
      "layout": "IPY_MODEL_2ee2f4482adf452aaaf1d665ca275877"
     }
    },
    "93465ccf0c6647829341860167561b34": {
     "model_module": "@jupyter-widgets/controls",
     "model_name": "HTMLModel",
     "model_module_version": "1.5.0",
     "state": {
      "_dom_classes": [],
      "_model_module": "@jupyter-widgets/controls",
      "_model_module_version": "1.5.0",
      "_model_name": "HTMLModel",
      "_view_count": null,
      "_view_module": "@jupyter-widgets/controls",
      "_view_module_version": "1.5.0",
      "_view_name": "HTMLView",
      "description": "",
      "description_tooltip": null,
      "layout": "IPY_MODEL_863b53d09b5e40a09a7d5de11da1691e",
      "placeholder": "​",
      "style": "IPY_MODEL_f432deaf263643f1aa194bc72cac761e",
      "value": "Dl Completed...: 100%"
     }
    },
    "be572be433b94ca2b77980656322b427": {
     "model_module": "@jupyter-widgets/controls",
     "model_name": "FloatProgressModel",
     "model_module_version": "1.5.0",
     "state": {
      "_dom_classes": [],
      "_model_module": "@jupyter-widgets/controls",
      "_model_module_version": "1.5.0",
      "_model_name": "FloatProgressModel",
      "_view_count": null,
      "_view_module": "@jupyter-widgets/controls",
      "_view_module_version": "1.5.0",
      "_view_name": "ProgressView",
      "bar_style": "success",
      "description": "",
      "description_tooltip": null,
      "layout": "IPY_MODEL_087c0a6ba8d848ce8a563d146da51da8",
      "max": 5,
      "min": 0,
      "orientation": "horizontal",
      "style": "IPY_MODEL_c77a00acf7bc4c92983ddfa1efdc1f58",
      "value": 5
     }
    },
    "b90dc2190c584ef7b82b914a065a0ee0": {
     "model_module": "@jupyter-widgets/controls",
     "model_name": "HTMLModel",
     "model_module_version": "1.5.0",
     "state": {
      "_dom_classes": [],
      "_model_module": "@jupyter-widgets/controls",
      "_model_module_version": "1.5.0",
      "_model_name": "HTMLModel",
      "_view_count": null,
      "_view_module": "@jupyter-widgets/controls",
      "_view_module_version": "1.5.0",
      "_view_name": "HTMLView",
      "description": "",
      "description_tooltip": null,
      "layout": "IPY_MODEL_08d9a08514fd48cd84d6a60e0ac6e0c3",
      "placeholder": "​",
      "style": "IPY_MODEL_37b3aac9cac94f3ba8e55e3cd5bfb469",
      "value": " 5/5 [00:02&lt;00:00,  2.07 file/s]"
     }
    },
    "2ee2f4482adf452aaaf1d665ca275877": {
     "model_module": "@jupyter-widgets/base",
     "model_name": "LayoutModel",
     "model_module_version": "1.2.0",
     "state": {
      "_model_module": "@jupyter-widgets/base",
      "_model_module_version": "1.2.0",
      "_model_name": "LayoutModel",
      "_view_count": null,
      "_view_module": "@jupyter-widgets/base",
      "_view_module_version": "1.2.0",
      "_view_name": "LayoutView",
      "align_content": null,
      "align_items": null,
      "align_self": null,
      "border": null,
      "bottom": null,
      "display": null,
      "flex": null,
      "flex_flow": null,
      "grid_area": null,
      "grid_auto_columns": null,
      "grid_auto_flow": null,
      "grid_auto_rows": null,
      "grid_column": null,
      "grid_gap": null,
      "grid_row": null,
      "grid_template_areas": null,
      "grid_template_columns": null,
      "grid_template_rows": null,
      "height": null,
      "justify_content": null,
      "justify_items": null,
      "left": null,
      "margin": null,
      "max_height": null,
      "max_width": null,
      "min_height": null,
      "min_width": null,
      "object_fit": null,
      "object_position": null,
      "order": null,
      "overflow": null,
      "overflow_x": null,
      "overflow_y": null,
      "padding": null,
      "right": null,
      "top": null,
      "visibility": null,
      "width": null
     }
    },
    "863b53d09b5e40a09a7d5de11da1691e": {
     "model_module": "@jupyter-widgets/base",
     "model_name": "LayoutModel",
     "model_module_version": "1.2.0",
     "state": {
      "_model_module": "@jupyter-widgets/base",
      "_model_module_version": "1.2.0",
      "_model_name": "LayoutModel",
      "_view_count": null,
      "_view_module": "@jupyter-widgets/base",
      "_view_module_version": "1.2.0",
      "_view_name": "LayoutView",
      "align_content": null,
      "align_items": null,
      "align_self": null,
      "border": null,
      "bottom": null,
      "display": null,
      "flex": null,
      "flex_flow": null,
      "grid_area": null,
      "grid_auto_columns": null,
      "grid_auto_flow": null,
      "grid_auto_rows": null,
      "grid_column": null,
      "grid_gap": null,
      "grid_row": null,
      "grid_template_areas": null,
      "grid_template_columns": null,
      "grid_template_rows": null,
      "height": null,
      "justify_content": null,
      "justify_items": null,
      "left": null,
      "margin": null,
      "max_height": null,
      "max_width": null,
      "min_height": null,
      "min_width": null,
      "object_fit": null,
      "object_position": null,
      "order": null,
      "overflow": null,
      "overflow_x": null,
      "overflow_y": null,
      "padding": null,
      "right": null,
      "top": null,
      "visibility": null,
      "width": null
     }
    },
    "f432deaf263643f1aa194bc72cac761e": {
     "model_module": "@jupyter-widgets/controls",
     "model_name": "DescriptionStyleModel",
     "model_module_version": "1.5.0",
     "state": {
      "_model_module": "@jupyter-widgets/controls",
      "_model_module_version": "1.5.0",
      "_model_name": "DescriptionStyleModel",
      "_view_count": null,
      "_view_module": "@jupyter-widgets/base",
      "_view_module_version": "1.2.0",
      "_view_name": "StyleView",
      "description_width": ""
     }
    },
    "087c0a6ba8d848ce8a563d146da51da8": {
     "model_module": "@jupyter-widgets/base",
     "model_name": "LayoutModel",
     "model_module_version": "1.2.0",
     "state": {
      "_model_module": "@jupyter-widgets/base",
      "_model_module_version": "1.2.0",
      "_model_name": "LayoutModel",
      "_view_count": null,
      "_view_module": "@jupyter-widgets/base",
      "_view_module_version": "1.2.0",
      "_view_name": "LayoutView",
      "align_content": null,
      "align_items": null,
      "align_self": null,
      "border": null,
      "bottom": null,
      "display": null,
      "flex": null,
      "flex_flow": null,
      "grid_area": null,
      "grid_auto_columns": null,
      "grid_auto_flow": null,
      "grid_auto_rows": null,
      "grid_column": null,
      "grid_gap": null,
      "grid_row": null,
      "grid_template_areas": null,
      "grid_template_columns": null,
      "grid_template_rows": null,
      "height": null,
      "justify_content": null,
      "justify_items": null,
      "left": null,
      "margin": null,
      "max_height": null,
      "max_width": null,
      "min_height": null,
      "min_width": null,
      "object_fit": null,
      "object_position": null,
      "order": null,
      "overflow": null,
      "overflow_x": null,
      "overflow_y": null,
      "padding": null,
      "right": null,
      "top": null,
      "visibility": null,
      "width": null
     }
    },
    "c77a00acf7bc4c92983ddfa1efdc1f58": {
     "model_module": "@jupyter-widgets/controls",
     "model_name": "ProgressStyleModel",
     "model_module_version": "1.5.0",
     "state": {
      "_model_module": "@jupyter-widgets/controls",
      "_model_module_version": "1.5.0",
      "_model_name": "ProgressStyleModel",
      "_view_count": null,
      "_view_module": "@jupyter-widgets/base",
      "_view_module_version": "1.2.0",
      "_view_name": "StyleView",
      "bar_color": null,
      "description_width": ""
     }
    },
    "08d9a08514fd48cd84d6a60e0ac6e0c3": {
     "model_module": "@jupyter-widgets/base",
     "model_name": "LayoutModel",
     "model_module_version": "1.2.0",
     "state": {
      "_model_module": "@jupyter-widgets/base",
      "_model_module_version": "1.2.0",
      "_model_name": "LayoutModel",
      "_view_count": null,
      "_view_module": "@jupyter-widgets/base",
      "_view_module_version": "1.2.0",
      "_view_name": "LayoutView",
      "align_content": null,
      "align_items": null,
      "align_self": null,
      "border": null,
      "bottom": null,
      "display": null,
      "flex": null,
      "flex_flow": null,
      "grid_area": null,
      "grid_auto_columns": null,
      "grid_auto_flow": null,
      "grid_auto_rows": null,
      "grid_column": null,
      "grid_gap": null,
      "grid_row": null,
      "grid_template_areas": null,
      "grid_template_columns": null,
      "grid_template_rows": null,
      "height": null,
      "justify_content": null,
      "justify_items": null,
      "left": null,
      "margin": null,
      "max_height": null,
      "max_width": null,
      "min_height": null,
      "min_width": null,
      "object_fit": null,
      "object_position": null,
      "order": null,
      "overflow": null,
      "overflow_x": null,
      "overflow_y": null,
      "padding": null,
      "right": null,
      "top": null,
      "visibility": null,
      "width": null
     }
    },
    "37b3aac9cac94f3ba8e55e3cd5bfb469": {
     "model_module": "@jupyter-widgets/controls",
     "model_name": "DescriptionStyleModel",
     "model_module_version": "1.5.0",
     "state": {
      "_model_module": "@jupyter-widgets/controls",
      "_model_module_version": "1.5.0",
      "_model_name": "DescriptionStyleModel",
      "_view_count": null,
      "_view_module": "@jupyter-widgets/base",
      "_view_module_version": "1.2.0",
      "_view_name": "StyleView",
      "description_width": ""
     }
    }
   }
  }
 },
 "nbformat": 4,
 "nbformat_minor": 0
}
